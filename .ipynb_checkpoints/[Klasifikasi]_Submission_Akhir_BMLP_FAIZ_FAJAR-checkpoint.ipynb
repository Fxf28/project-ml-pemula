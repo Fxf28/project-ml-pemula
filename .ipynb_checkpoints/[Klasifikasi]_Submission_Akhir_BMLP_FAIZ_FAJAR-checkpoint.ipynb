{
 "cells": [
  {
   "cell_type": "markdown",
   "metadata": {
    "id": "fKADPWcFKlj3"
   },
   "source": [
    "# **1. Import Library**"
   ]
  },
  {
   "cell_type": "markdown",
   "metadata": {
    "id": "LgA3ERnVn84N"
   },
   "source": [
    "Pada tahap ini, Anda perlu mengimpor beberapa pustaka (library) Python yang dibutuhkan untuk analisis data dan pembangunan model machine learning."
   ]
  },
  {
   "cell_type": "code",
   "execution_count": 1,
   "metadata": {
    "id": "BlmvjLY9M4Yj"
   },
   "outputs": [],
   "source": [
    "import pandas as pd\n",
    "import numpy as np\n",
    "import seaborn as sns\n",
    "import matplotlib.pyplot as plt\n",
    "from sklearn.model_selection import train_test_split\n",
    "from sklearn.ensemble import RandomForestClassifier\n",
    "from sklearn.metrics import confusion_matrix, accuracy_score, precision_score, recall_score, f1_score\n",
    "from sklearn.preprocessing import RobustScaler\n",
    "from sklearn.neighbors import KNeighborsClassifier\n",
    "from sklearn.tree import DecisionTreeClassifier\n",
    "from sklearn.ensemble import RandomForestClassifier\n",
    "from sklearn.svm import SVC"
   ]
  },
  {
   "cell_type": "markdown",
   "metadata": {
    "id": "f3YIEnAFKrKL"
   },
   "source": [
    "# **2. Memuat Dataset dari Hasil Clustering**"
   ]
  },
  {
   "cell_type": "markdown",
   "metadata": {
    "id": "Ey3ItwTen_7E"
   },
   "source": [
    "Memuat dataset hasil clustering dari file CSV ke dalam variabel DataFrame."
   ]
  },
  {
   "cell_type": "code",
   "execution_count": 2,
   "metadata": {
    "id": "GHCGNTyrM5fS"
   },
   "outputs": [],
   "source": [
    "df = pd.read_csv(\"data/clustered_data.csv\")\n",
    "\n",
    "X = df.drop(columns=[\"Cluster\"])\n",
    "y = df[\"Cluster\"]"
   ]
  },
  {
   "cell_type": "code",
   "execution_count": 3,
   "metadata": {},
   "outputs": [
    {
     "name": "stdout",
     "output_type": "stream",
     "text": [
      "<class 'pandas.core.frame.DataFrame'>\n",
      "RangeIndex: 7050 entries, 0 to 7049\n",
      "Data columns (total 10 columns):\n",
      " #   Column         Non-Null Count  Dtype \n",
      "---  ------         --------------  ----- \n",
      " 0   num_reactions  7050 non-null   int64 \n",
      " 1   num_comments   7050 non-null   int64 \n",
      " 2   num_shares     7050 non-null   int64 \n",
      " 3   num_likes      7050 non-null   int64 \n",
      " 4   num_loves      7050 non-null   int64 \n",
      " 5   num_wows       7050 non-null   int64 \n",
      " 6   num_hahas      7050 non-null   int64 \n",
      " 7   num_sads       7050 non-null   int64 \n",
      " 8   num_angrys     7050 non-null   int64 \n",
      " 9   status_type    7050 non-null   object\n",
      "dtypes: int64(9), object(1)\n",
      "memory usage: 550.9+ KB\n"
     ]
    }
   ],
   "source": [
    "X.info()"
   ]
  },
  {
   "cell_type": "code",
   "execution_count": 4,
   "metadata": {},
   "outputs": [
    {
     "name": "stdout",
     "output_type": "stream",
     "text": [
      "<class 'pandas.core.series.Series'>\n",
      "RangeIndex: 7050 entries, 0 to 7049\n",
      "Series name: Cluster\n",
      "Non-Null Count  Dtype\n",
      "--------------  -----\n",
      "7050 non-null   int64\n",
      "dtypes: int64(1)\n",
      "memory usage: 55.2 KB\n"
     ]
    }
   ],
   "source": [
    "y.info()"
   ]
  },
  {
   "cell_type": "markdown",
   "metadata": {
    "id": "KkPem5eWL2UP"
   },
   "source": [
    "# **3. Data Splitting**"
   ]
  },
  {
   "cell_type": "markdown",
   "metadata": {
    "id": "YYj1rl_JNI9Y"
   },
   "source": [
    "Tahap Data Splitting bertujuan untuk memisahkan dataset menjadi dua bagian: data latih (training set) dan data uji (test set)."
   ]
  },
  {
   "cell_type": "code",
   "execution_count": 5,
   "metadata": {},
   "outputs": [
    {
     "data": {
      "text/html": [
       "<div>\n",
       "<style scoped>\n",
       "    .dataframe tbody tr th:only-of-type {\n",
       "        vertical-align: middle;\n",
       "    }\n",
       "\n",
       "    .dataframe tbody tr th {\n",
       "        vertical-align: top;\n",
       "    }\n",
       "\n",
       "    .dataframe thead th {\n",
       "        text-align: right;\n",
       "    }\n",
       "</style>\n",
       "<table border=\"1\" class=\"dataframe\">\n",
       "  <thead>\n",
       "    <tr style=\"text-align: right;\">\n",
       "      <th></th>\n",
       "      <th>count</th>\n",
       "      <th>mean</th>\n",
       "      <th>std</th>\n",
       "      <th>min</th>\n",
       "      <th>25%</th>\n",
       "      <th>50%</th>\n",
       "      <th>75%</th>\n",
       "      <th>max</th>\n",
       "    </tr>\n",
       "  </thead>\n",
       "  <tbody>\n",
       "    <tr>\n",
       "      <th>num_reactions</th>\n",
       "      <td>7050.0</td>\n",
       "      <td>46543.666950</td>\n",
       "      <td>93450.312445</td>\n",
       "      <td>60.0</td>\n",
       "      <td>3494.0</td>\n",
       "      <td>12079.0</td>\n",
       "      <td>44298.0</td>\n",
       "      <td>951480.0</td>\n",
       "    </tr>\n",
       "    <tr>\n",
       "      <th>num_comments</th>\n",
       "      <td>7050.0</td>\n",
       "      <td>5164.188652</td>\n",
       "      <td>20461.646849</td>\n",
       "      <td>4.0</td>\n",
       "      <td>4.0</td>\n",
       "      <td>96.0</td>\n",
       "      <td>533.0</td>\n",
       "      <td>482774.0</td>\n",
       "    </tr>\n",
       "    <tr>\n",
       "      <th>num_shares</th>\n",
       "      <td>7050.0</td>\n",
       "      <td>160.090213</td>\n",
       "      <td>526.399862</td>\n",
       "      <td>0.0</td>\n",
       "      <td>0.0</td>\n",
       "      <td>0.0</td>\n",
       "      <td>16.0</td>\n",
       "      <td>13696.0</td>\n",
       "    </tr>\n",
       "    <tr>\n",
       "      <th>num_likes</th>\n",
       "      <td>7050.0</td>\n",
       "      <td>36131.491206</td>\n",
       "      <td>75398.985150</td>\n",
       "      <td>58.0</td>\n",
       "      <td>2910.0</td>\n",
       "      <td>9788.0</td>\n",
       "      <td>31050.0</td>\n",
       "      <td>790160.0</td>\n",
       "    </tr>\n",
       "    <tr>\n",
       "      <th>num_loves</th>\n",
       "      <td>7050.0</td>\n",
       "      <td>38.185957</td>\n",
       "      <td>119.918790</td>\n",
       "      <td>0.0</td>\n",
       "      <td>0.0</td>\n",
       "      <td>0.0</td>\n",
       "      <td>9.0</td>\n",
       "      <td>1971.0</td>\n",
       "    </tr>\n",
       "    <tr>\n",
       "      <th>num_wows</th>\n",
       "      <td>7050.0</td>\n",
       "      <td>1.289362</td>\n",
       "      <td>8.719650</td>\n",
       "      <td>0.0</td>\n",
       "      <td>0.0</td>\n",
       "      <td>0.0</td>\n",
       "      <td>0.0</td>\n",
       "      <td>278.0</td>\n",
       "    </tr>\n",
       "    <tr>\n",
       "      <th>num_hahas</th>\n",
       "      <td>7050.0</td>\n",
       "      <td>0.696454</td>\n",
       "      <td>3.957183</td>\n",
       "      <td>0.0</td>\n",
       "      <td>0.0</td>\n",
       "      <td>0.0</td>\n",
       "      <td>0.0</td>\n",
       "      <td>157.0</td>\n",
       "    </tr>\n",
       "    <tr>\n",
       "      <th>num_sads</th>\n",
       "      <td>7050.0</td>\n",
       "      <td>0.243688</td>\n",
       "      <td>1.597156</td>\n",
       "      <td>0.0</td>\n",
       "      <td>0.0</td>\n",
       "      <td>0.0</td>\n",
       "      <td>0.0</td>\n",
       "      <td>51.0</td>\n",
       "    </tr>\n",
       "    <tr>\n",
       "      <th>num_angrys</th>\n",
       "      <td>7050.0</td>\n",
       "      <td>0.113191</td>\n",
       "      <td>0.726812</td>\n",
       "      <td>0.0</td>\n",
       "      <td>0.0</td>\n",
       "      <td>0.0</td>\n",
       "      <td>0.0</td>\n",
       "      <td>31.0</td>\n",
       "    </tr>\n",
       "  </tbody>\n",
       "</table>\n",
       "</div>"
      ],
      "text/plain": [
       "                count          mean           std   min     25%      50%  \\\n",
       "num_reactions  7050.0  46543.666950  93450.312445  60.0  3494.0  12079.0   \n",
       "num_comments   7050.0   5164.188652  20461.646849   4.0     4.0     96.0   \n",
       "num_shares     7050.0    160.090213    526.399862   0.0     0.0      0.0   \n",
       "num_likes      7050.0  36131.491206  75398.985150  58.0  2910.0   9788.0   \n",
       "num_loves      7050.0     38.185957    119.918790   0.0     0.0      0.0   \n",
       "num_wows       7050.0      1.289362      8.719650   0.0     0.0      0.0   \n",
       "num_hahas      7050.0      0.696454      3.957183   0.0     0.0      0.0   \n",
       "num_sads       7050.0      0.243688      1.597156   0.0     0.0      0.0   \n",
       "num_angrys     7050.0      0.113191      0.726812   0.0     0.0      0.0   \n",
       "\n",
       "                   75%       max  \n",
       "num_reactions  44298.0  951480.0  \n",
       "num_comments     533.0  482774.0  \n",
       "num_shares        16.0   13696.0  \n",
       "num_likes      31050.0  790160.0  \n",
       "num_loves          9.0    1971.0  \n",
       "num_wows           0.0     278.0  \n",
       "num_hahas          0.0     157.0  \n",
       "num_sads           0.0      51.0  \n",
       "num_angrys         0.0      31.0  "
      ]
     },
     "execution_count": 5,
     "metadata": {},
     "output_type": "execute_result"
    }
   ],
   "source": [
    "X.describe().T"
   ]
  },
  {
   "cell_type": "code",
   "execution_count": 6,
   "metadata": {
    "id": "OubAW-7ONKVj"
   },
   "outputs": [
    {
     "data": {
      "text/html": [
       "<div>\n",
       "<style scoped>\n",
       "    .dataframe tbody tr th:only-of-type {\n",
       "        vertical-align: middle;\n",
       "    }\n",
       "\n",
       "    .dataframe tbody tr th {\n",
       "        vertical-align: top;\n",
       "    }\n",
       "\n",
       "    .dataframe thead th {\n",
       "        text-align: right;\n",
       "    }\n",
       "</style>\n",
       "<table border=\"1\" class=\"dataframe\">\n",
       "  <thead>\n",
       "    <tr style=\"text-align: right;\">\n",
       "      <th></th>\n",
       "      <th>count</th>\n",
       "      <th>mean</th>\n",
       "      <th>std</th>\n",
       "      <th>min</th>\n",
       "      <th>25%</th>\n",
       "      <th>50%</th>\n",
       "      <th>75%</th>\n",
       "      <th>max</th>\n",
       "    </tr>\n",
       "  </thead>\n",
       "  <tbody>\n",
       "    <tr>\n",
       "      <th>num_reactions</th>\n",
       "      <td>7050.0</td>\n",
       "      <td>0.844639</td>\n",
       "      <td>2.290224</td>\n",
       "      <td>-0.294554</td>\n",
       "      <td>-0.210396</td>\n",
       "      <td>0.0</td>\n",
       "      <td>0.789604</td>\n",
       "      <td>23.022277</td>\n",
       "    </tr>\n",
       "    <tr>\n",
       "      <th>num_comments</th>\n",
       "      <td>7050.0</td>\n",
       "      <td>9.580697</td>\n",
       "      <td>38.679862</td>\n",
       "      <td>-0.173913</td>\n",
       "      <td>-0.173913</td>\n",
       "      <td>0.0</td>\n",
       "      <td>0.826087</td>\n",
       "      <td>912.434783</td>\n",
       "    </tr>\n",
       "    <tr>\n",
       "      <th>num_shares</th>\n",
       "      <td>7050.0</td>\n",
       "      <td>10.005638</td>\n",
       "      <td>32.899991</td>\n",
       "      <td>0.000000</td>\n",
       "      <td>0.000000</td>\n",
       "      <td>0.0</td>\n",
       "      <td>1.000000</td>\n",
       "      <td>856.000000</td>\n",
       "    </tr>\n",
       "    <tr>\n",
       "      <th>num_likes</th>\n",
       "      <td>7050.0</td>\n",
       "      <td>0.936158</td>\n",
       "      <td>2.679424</td>\n",
       "      <td>-0.345771</td>\n",
       "      <td>-0.244421</td>\n",
       "      <td>0.0</td>\n",
       "      <td>0.755579</td>\n",
       "      <td>27.731770</td>\n",
       "    </tr>\n",
       "    <tr>\n",
       "      <th>num_loves</th>\n",
       "      <td>7050.0</td>\n",
       "      <td>4.242884</td>\n",
       "      <td>13.324310</td>\n",
       "      <td>0.000000</td>\n",
       "      <td>0.000000</td>\n",
       "      <td>0.0</td>\n",
       "      <td>1.000000</td>\n",
       "      <td>219.000000</td>\n",
       "    </tr>\n",
       "    <tr>\n",
       "      <th>num_wows</th>\n",
       "      <td>7050.0</td>\n",
       "      <td>1.289362</td>\n",
       "      <td>8.719650</td>\n",
       "      <td>0.000000</td>\n",
       "      <td>0.000000</td>\n",
       "      <td>0.0</td>\n",
       "      <td>0.000000</td>\n",
       "      <td>278.000000</td>\n",
       "    </tr>\n",
       "    <tr>\n",
       "      <th>num_hahas</th>\n",
       "      <td>7050.0</td>\n",
       "      <td>0.696454</td>\n",
       "      <td>3.957183</td>\n",
       "      <td>0.000000</td>\n",
       "      <td>0.000000</td>\n",
       "      <td>0.0</td>\n",
       "      <td>0.000000</td>\n",
       "      <td>157.000000</td>\n",
       "    </tr>\n",
       "    <tr>\n",
       "      <th>num_sads</th>\n",
       "      <td>7050.0</td>\n",
       "      <td>0.243688</td>\n",
       "      <td>1.597156</td>\n",
       "      <td>0.000000</td>\n",
       "      <td>0.000000</td>\n",
       "      <td>0.0</td>\n",
       "      <td>0.000000</td>\n",
       "      <td>51.000000</td>\n",
       "    </tr>\n",
       "    <tr>\n",
       "      <th>num_angrys</th>\n",
       "      <td>7050.0</td>\n",
       "      <td>0.113191</td>\n",
       "      <td>0.726812</td>\n",
       "      <td>0.000000</td>\n",
       "      <td>0.000000</td>\n",
       "      <td>0.0</td>\n",
       "      <td>0.000000</td>\n",
       "      <td>31.000000</td>\n",
       "    </tr>\n",
       "  </tbody>\n",
       "</table>\n",
       "</div>"
      ],
      "text/plain": [
       "                count       mean        std       min       25%  50%  \\\n",
       "num_reactions  7050.0   0.844639   2.290224 -0.294554 -0.210396  0.0   \n",
       "num_comments   7050.0   9.580697  38.679862 -0.173913 -0.173913  0.0   \n",
       "num_shares     7050.0  10.005638  32.899991  0.000000  0.000000  0.0   \n",
       "num_likes      7050.0   0.936158   2.679424 -0.345771 -0.244421  0.0   \n",
       "num_loves      7050.0   4.242884  13.324310  0.000000  0.000000  0.0   \n",
       "num_wows       7050.0   1.289362   8.719650  0.000000  0.000000  0.0   \n",
       "num_hahas      7050.0   0.696454   3.957183  0.000000  0.000000  0.0   \n",
       "num_sads       7050.0   0.243688   1.597156  0.000000  0.000000  0.0   \n",
       "num_angrys     7050.0   0.113191   0.726812  0.000000  0.000000  0.0   \n",
       "\n",
       "                    75%         max  \n",
       "num_reactions  0.789604   23.022277  \n",
       "num_comments   0.826087  912.434783  \n",
       "num_shares     1.000000  856.000000  \n",
       "num_likes      0.755579   27.731770  \n",
       "num_loves      1.000000  219.000000  \n",
       "num_wows       0.000000  278.000000  \n",
       "num_hahas      0.000000  157.000000  \n",
       "num_sads       0.000000   51.000000  \n",
       "num_angrys     0.000000   31.000000  "
      ]
     },
     "execution_count": 6,
     "metadata": {},
     "output_type": "execute_result"
    }
   ],
   "source": [
    "numerical = X.select_dtypes(include=['int64']).columns.tolist()\n",
    "\n",
    "scaler = RobustScaler()\n",
    "X_scaled = X.copy()\n",
    "X_scaled[numerical] = pd.DataFrame(scaler.fit_transform(X[numerical]), columns=numerical, index=X.index)\n",
    "X_scaled.describe().T"
   ]
  },
  {
   "cell_type": "code",
   "execution_count": 7,
   "metadata": {},
   "outputs": [
    {
     "name": "stdout",
     "output_type": "stream",
     "text": [
      "<class 'pandas.core.frame.DataFrame'>\n",
      "RangeIndex: 7050 entries, 0 to 7049\n",
      "Data columns (total 10 columns):\n",
      " #   Column         Non-Null Count  Dtype  \n",
      "---  ------         --------------  -----  \n",
      " 0   num_reactions  7050 non-null   float64\n",
      " 1   num_comments   7050 non-null   float64\n",
      " 2   num_shares     7050 non-null   float64\n",
      " 3   num_likes      7050 non-null   float64\n",
      " 4   num_loves      7050 non-null   float64\n",
      " 5   num_wows       7050 non-null   float64\n",
      " 6   num_hahas      7050 non-null   float64\n",
      " 7   num_sads       7050 non-null   float64\n",
      " 8   num_angrys     7050 non-null   float64\n",
      " 9   status_type    7050 non-null   object \n",
      "dtypes: float64(9), object(1)\n",
      "memory usage: 550.9+ KB\n"
     ]
    }
   ],
   "source": [
    "X_scaled.info()"
   ]
  },
  {
   "cell_type": "code",
   "execution_count": 8,
   "metadata": {},
   "outputs": [],
   "source": [
    "X_scaled = pd.get_dummies(X_scaled, columns=['status_type'])\n",
    "status_type_columns = [col for col in X_scaled.columns if col.startswith('status_type_')]\n",
    "X_scaled[status_type_columns] = X_scaled[status_type_columns].astype(int)"
   ]
  },
  {
   "cell_type": "code",
   "execution_count": 9,
   "metadata": {},
   "outputs": [
    {
     "name": "stdout",
     "output_type": "stream",
     "text": [
      "<class 'pandas.core.frame.DataFrame'>\n",
      "RangeIndex: 7050 entries, 0 to 7049\n",
      "Data columns (total 13 columns):\n",
      " #   Column              Non-Null Count  Dtype  \n",
      "---  ------              --------------  -----  \n",
      " 0   num_reactions       7050 non-null   float64\n",
      " 1   num_comments        7050 non-null   float64\n",
      " 2   num_shares          7050 non-null   float64\n",
      " 3   num_likes           7050 non-null   float64\n",
      " 4   num_loves           7050 non-null   float64\n",
      " 5   num_wows            7050 non-null   float64\n",
      " 6   num_hahas           7050 non-null   float64\n",
      " 7   num_sads            7050 non-null   float64\n",
      " 8   num_angrys          7050 non-null   float64\n",
      " 9   status_type_link    7050 non-null   int64  \n",
      " 10  status_type_photo   7050 non-null   int64  \n",
      " 11  status_type_status  7050 non-null   int64  \n",
      " 12  status_type_video   7050 non-null   int64  \n",
      "dtypes: float64(9), int64(4)\n",
      "memory usage: 716.1 KB\n"
     ]
    }
   ],
   "source": [
    "X_scaled.info()"
   ]
  },
  {
   "cell_type": "code",
   "execution_count": 10,
   "metadata": {},
   "outputs": [],
   "source": [
    "X_train, X_test, y_train, y_test = train_test_split(X_scaled, y, test_size=0.8, random_state=42, stratify=y)"
   ]
  },
  {
   "cell_type": "markdown",
   "metadata": {
    "id": "IVPbB03CMhTT"
   },
   "source": [
    "# **4. Membangun Model Klasifikasi**\n"
   ]
  },
  {
   "cell_type": "markdown",
   "metadata": {
    "id": "Ned1pL9zMmBK"
   },
   "source": [
    "## **a. Membangun Model Klasifikasi**"
   ]
  },
  {
   "cell_type": "markdown",
   "metadata": {
    "id": "WAWzPOE4Nkti"
   },
   "source": [
    "Setelah memilih algoritma klasifikasi yang sesuai, langkah selanjutnya adalah melatih model menggunakan data latih.\n",
    "\n",
    "Berikut adalah rekomendasi tahapannya.\n",
    "1. Pilih algoritma klasifikasi yang sesuai, seperti Logistic Regression, Decision Tree, Random Forest, atau K-Nearest Neighbors (KNN).\n",
    "2. Latih model menggunakan data latih."
   ]
  },
  {
   "cell_type": "code",
   "execution_count": 11,
   "metadata": {
    "id": "4JYxBe87NLDk"
   },
   "outputs": [
    {
     "name": "stdout",
     "output_type": "stream",
     "text": [
      "Model training selesai.\n"
     ]
    }
   ],
   "source": [
    "knn = KNeighborsClassifier().fit(X_train, y_train)\n",
    "dt = DecisionTreeClassifier().fit(X_train, y_train)\n",
    "rf = RandomForestClassifier().fit(X_train, y_train)\n",
    "svm = SVC().fit(X_train, y_train)\n",
    " \n",
    "print(\"Model training selesai.\")"
   ]
  },
  {
   "cell_type": "markdown",
   "metadata": {
    "id": "seYoHNY3XU1y"
   },
   "source": [
    "Dalam proyek ini, saya menggunakan beberapa algoritma klasifikasi untuk membangun model yang dapat mengklasifikasikan data dengan tingkat akurasi yang tinggi. Saya melatih lima model yang berbeda: K-Nearest Neighbors (KNN), Decision Tree (DT), Random Forest (RF) dan Support Vector Machine (SVM).\n",
    "\n",
    "K-Nearest Neighbors (KNN)\n",
    "Saya menggunakan KNN untuk mengklasifikasikan data berdasarkan kedekatan dengan sampel lain dalam ruang fitur. Model ini bekerja dengan mencari sejumlah k tetangga terdekat dari data uji dan menentukan kelas berdasarkan mayoritas dari tetangga tersebut.\n",
    "\n",
    "Decision Tree (DT)\n",
    "Saya menerapkan Decision Tree sebagai model yang bekerja dengan membagi data secara rekursif berdasarkan fitur yang paling informatif. Model ini membentuk struktur pohon yang memudahkan dalam memahami keputusan yang dibuat oleh algoritma.\n",
    "\n",
    "Random Forest (RF)\n",
    "Untuk meningkatkan performa dan mengurangi overfitting dari Decision Tree, saya menggunakan Random Forest. Model ini menggabungkan banyak pohon keputusan dan menggabungkan prediksinya melalui teknik agregasi (voting). Hal ini membuat model lebih stabil dan akurat dibandingkan satu pohon keputusan tunggal.\n",
    "\n",
    "Support Vector Machine (SVM)\n",
    "Terakhir, Saya juga menggunakan SVM, yang bekerja dengan mencari hyperplane terbaik untuk memisahkan kelas dalam data. Dengan menggunakan kernel yang sesuai, SVM dapat menangani data yang tidak terpisah secara linear dan memberikan hasil klasifikasi yang optimal.\n",
    "\n",
    "Setelah melatih semua model ini dengan data latih (X_train, y_train), saya siap untuk mengevaluasi performa mereka dan menentukan model mana yang memberikan hasil terbaik."
   ]
  },
  {
   "cell_type": "markdown",
   "metadata": {
    "id": "ergzChZFEL-O"
   },
   "source": [
    "## **b. Evaluasi Model Klasifikasi**"
   ]
  },
  {
   "cell_type": "markdown",
   "metadata": {
    "id": "zOm68u-7NpLT"
   },
   "source": [
    "Berikut adalah **rekomendasi** tahapannya.\n",
    "1. Lakukan prediksi menggunakan data uji.\n",
    "2. Hitung metrik evaluasi seperti Accuracy dan F1-Score (Opsional: Precision dan Recall).\n",
    "3. Buat confusion matrix untuk melihat detail prediksi benar dan salah."
   ]
  },
  {
   "cell_type": "code",
   "execution_count": 12,
   "metadata": {
    "id": "tMq4QAssNLip"
   },
   "outputs": [
    {
     "data": {
      "text/html": [
       "<div>\n",
       "<style scoped>\n",
       "    .dataframe tbody tr th:only-of-type {\n",
       "        vertical-align: middle;\n",
       "    }\n",
       "\n",
       "    .dataframe tbody tr th {\n",
       "        vertical-align: top;\n",
       "    }\n",
       "\n",
       "    .dataframe thead th {\n",
       "        text-align: right;\n",
       "    }\n",
       "</style>\n",
       "<table border=\"1\" class=\"dataframe\">\n",
       "  <thead>\n",
       "    <tr style=\"text-align: right;\">\n",
       "      <th></th>\n",
       "      <th>Model</th>\n",
       "      <th>Accuracy</th>\n",
       "      <th>Precision</th>\n",
       "      <th>Recall</th>\n",
       "      <th>F1-Score</th>\n",
       "    </tr>\n",
       "  </thead>\n",
       "  <tbody>\n",
       "    <tr>\n",
       "      <th>0</th>\n",
       "      <td>K-Nearest Neighbors (KNN)</td>\n",
       "      <td>0.992553</td>\n",
       "      <td>0.992687</td>\n",
       "      <td>0.992553</td>\n",
       "      <td>0.992292</td>\n",
       "    </tr>\n",
       "    <tr>\n",
       "      <th>1</th>\n",
       "      <td>Decision Tree (DT)</td>\n",
       "      <td>0.988830</td>\n",
       "      <td>0.988737</td>\n",
       "      <td>0.988830</td>\n",
       "      <td>0.988739</td>\n",
       "    </tr>\n",
       "    <tr>\n",
       "      <th>2</th>\n",
       "      <td>Random Forest (RF)</td>\n",
       "      <td>0.985993</td>\n",
       "      <td>0.985940</td>\n",
       "      <td>0.985993</td>\n",
       "      <td>0.985755</td>\n",
       "    </tr>\n",
       "    <tr>\n",
       "      <th>3</th>\n",
       "      <td>Support Vector Machine (SVM)</td>\n",
       "      <td>0.991312</td>\n",
       "      <td>0.991691</td>\n",
       "      <td>0.991312</td>\n",
       "      <td>0.991212</td>\n",
       "    </tr>\n",
       "  </tbody>\n",
       "</table>\n",
       "</div>"
      ],
      "text/plain": [
       "                          Model  Accuracy  Precision    Recall  F1-Score\n",
       "0     K-Nearest Neighbors (KNN)  0.992553   0.992687  0.992553  0.992292\n",
       "1            Decision Tree (DT)  0.988830   0.988737  0.988830  0.988739\n",
       "2            Random Forest (RF)  0.985993   0.985940  0.985993  0.985755\n",
       "3  Support Vector Machine (SVM)  0.991312   0.991691  0.991312  0.991212"
      ]
     },
     "execution_count": 12,
     "metadata": {},
     "output_type": "execute_result"
    }
   ],
   "source": [
    "def evaluate_model(model, X_test, y_test):\n",
    "    y_pred = model.predict(X_test)\n",
    "    cm = confusion_matrix(y_test, y_pred)\n",
    "    results = {\n",
    "        'Confusion Matrix': cm,\n",
    "        'Accuracy': accuracy_score(y_test, y_pred),\n",
    "        'Precision': precision_score(y_test, y_pred, average='weighted', zero_division=1),\n",
    "        'Recall': recall_score(y_test, y_pred, average='weighted', zero_division=1),\n",
    "        'F1-Score': f1_score(y_test, y_pred, average='weighted')\n",
    "    }\n",
    "    return results\n",
    "\n",
    "# Update your model evaluation results dictionary\n",
    "results = {\n",
    "    'K-Nearest Neighbors (KNN)': evaluate_model(knn, X_test, y_test),\n",
    "    'Decision Tree (DT)': evaluate_model(dt, X_test, y_test),\n",
    "    'Random Forest (RF)': evaluate_model(rf, X_test, y_test),\n",
    "    'Support Vector Machine (SVM)': evaluate_model(svm, X_test, y_test),\n",
    "}\n",
    "\n",
    "# Summarize the results in a DataFrame\n",
    "summary_df = pd.DataFrame(columns=['Model', 'Accuracy', 'Precision', 'Recall', 'F1-Score'])\n",
    "\n",
    "rows = []\n",
    "for model_name, metrics in results.items():\n",
    "    rows.append({\n",
    "        'Model': model_name,\n",
    "        'Accuracy': metrics['Accuracy'],\n",
    "        'Precision': metrics['Precision'],\n",
    "        'Recall': metrics['Recall'],\n",
    "        'F1-Score': metrics['F1-Score']\n",
    "    })\n",
    "\n",
    "summary_df = pd.DataFrame(rows)\n",
    "\n",
    "# Print the summary DataFrame\n",
    "summary_df"
   ]
  },
  {
   "cell_type": "code",
   "execution_count": 13,
   "metadata": {},
   "outputs": [
    {
     "data": {
      "image/png": "[encoded data removed]",
      "text/plain": [
       "<Figure size 1200x1000 with 8 Axes>"
      ]
     },
     "metadata": {},
     "output_type": "display_data"
    }
   ],
   "source": [
    "fig, axes = plt.subplots(nrows=(len(results) + 1) // 2, ncols=2, figsize=(12, 5 * ((len(results) + 1) // 2)))\n",
    "\n",
    "axes = axes.flatten()\n",
    "\n",
    "for i, (model_name, metrics) in enumerate(results.items()):\n",
    "    cm = metrics['Confusion Matrix']\n",
    "    sns.heatmap(cm, annot=True, fmt='d', cmap='Blues', \n",
    "                xticklabels=['Negative', 'Positive'], yticklabels=['Negative', 'Positive'], \n",
    "                ax=axes[i])\n",
    "    axes[i].set_title(f'Confusion Matrix - {model_name}')\n",
    "    axes[i].set_xlabel(\"Predicted Label\")\n",
    "    axes[i].set_ylabel(\"True Label\")\n",
    "\n",
    "for j in range(i + 1, len(axes)):\n",
    "    fig.delaxes(axes[j])\n",
    "\n",
    "plt.tight_layout()\n",
    "plt.show()"
   ]
  },
  {
   "cell_type": "markdown",
   "metadata": {
    "id": "ph9yIYDXEPuB"
   },
   "source": [
    "## **c. Tuning Model Klasifikasi (Optional)**"
   ]
  },
  {
   "cell_type": "markdown",
   "metadata": {
    "id": "-Bikx3LINv5e"
   },
   "source": [
    "Gunakan GridSearchCV, RandomizedSearchCV, atau metode lainnya untuk mencari kombinasi hyperparameter terbaik"
   ]
  },
  {
   "cell_type": "markdown",
   "metadata": {
    "id": "hE7pqlEPEYzI"
   },
   "source": [
    "## **d. Evaluasi Model Klasifikasi setelah Tuning (Optional)**"
   ]
  },
  {
   "cell_type": "markdown",
   "metadata": {
    "id": "feaPESoeN0zz"
   },
   "source": [
    "Berikut adalah rekomendasi tahapannya.\n",
    "1. Gunakan model dengan hyperparameter terbaik.\n",
    "2. Hitung ulang metrik evaluasi untuk melihat apakah ada peningkatan performa."
   ]
  },
  {
   "cell_type": "markdown",
   "metadata": {
    "id": "ZRsOdm4uEgAW"
   },
   "source": [
    "## **e. Analisis Hasil Evaluasi Model Klasifikasi**"
   ]
  },
  {
   "cell_type": "markdown",
   "metadata": {
    "id": "H4_9OwrsXZlz"
   },
   "source": [
    "**Berikut hasil evaluasi dari algoritma klasifikasi yang telah saya gunakan:**\n",
    "\n",
    "Setelah melatih empat model klasifikasi yang berbeda, saya mengevaluasi performa masing-masing berdasarkan metrik Accuracy, Precision, Recall, dan F1-Score. Berikut adalah analisis dari hasil evaluasi tersebut:\n",
    "\n",
    "1. **K-Nearest Neighbors (KNN)**\n",
    "\n",
    "- Accuracy: 99.26%\n",
    "- Precision: 99.27%\n",
    "- Recall: 99.26%\n",
    "- F1-Score: 99.23%\n",
    "- KNN memberikan performa terbaik dengan akurasi tertinggi di antara semua model. Model ini mampu mengklasifikasikan data dengan sangat baik, menunjukkan keseimbangan antara precision dan recall.\n",
    "\n",
    "2. **Decision Tree (DT)**\n",
    "\n",
    "- Accuracy: 98.79%\n",
    "- Precision: 98.79%\n",
    "- Recall: 98.79%\n",
    "- F1-Score: 98.79%\n",
    "- Decision Tree juga menunjukkan performa yang cukup baik, meskipun sedikit lebih rendah dibandingkan KNN. Model ini memiliki keunggulan dalam interpretabilitas tetapi berisiko mengalami overfitting jika tidak diatur dengan baik.\n",
    "\n",
    "3. **Random Forest (RF)**\n",
    "\n",
    "- Accuracy: 98.67%\n",
    "- Precision: 98.67%\n",
    "- Recall: 98.67%\n",
    "- F1-Score: 98.64%\n",
    "- Random Forest memiliki performa yang hampir setara dengan Decision Tree tetapi sedikit lebih rendah. Namun, model ini lebih stabil dibandingkan Decision Tree karena merupakan ensembel dari banyak pohon keputusan.\n",
    "\n",
    "4. **Support Vector Machine (SVM)**\n",
    "\n",
    "- Accuracy: 99.13%\n",
    "- Precision: 99.17%\n",
    "- Recall: 99.13%\n",
    "- F1-Score: 99.12%\n",
    "- SVM menunjukkan performa yang sangat baik, hampir menyamai KNN. Model ini bekerja dengan mencari hyperplane terbaik untuk memisahkan kelas dan cocok untuk data dengan dimensi yang kompleks.\n",
    "\n",
    "**Kesimpulan:**\n",
    "Dari hasil evaluasi ini, K-Nearest Neighbors (KNN) memberikan performa terbaik, dengan accuracy, precision, recall, dan F1-score yang paling tinggi. SVM juga merupakan alternatif yang sangat baik, hanya sedikit lebih rendah dibandingkan KNN. Decision Tree dan Random Forest memberikan hasil yang baik tetapi tidak lebih unggul dari dua model sebelumnya. Jika dipilih satu model terbaik, KNN menjadi kandidat utama, tetapi keputusan akhir tetap harus mempertimbangkan kecepatan inferensi dan kebutuhan interpretabilitas model dalam implementasi nyata."
   ]
  },
  {
   "cell_type": "markdown",
   "metadata": {
    "id": "Hm3BhSi6N4_l"
   },
   "source": [
    "**1. Analisis Kelemahan Model**\n",
    "\n",
    "***K-Nearest Neighbors (KNN)***\n",
    "- Accuracy = 0.992553 dan F1-Score = 0.992292\n",
    "- Dari confusion matrix, tampak bahwa KNN salah mengklasifikasikan hanya beberapa sampel.\n",
    "- Secara umum, KNN memberikan performa sangat baik, dengan trade-off bahwa KNN bisa lebih lambat pada prediksi jika data sangat besar.\n",
    "- Kelemahan potensial: butuh normalisasi data yang baik dan pemilihan k yang optimal. Jika dataset bertambah besar, performa prediksi KNN bisa menurun secara waktu komputasi.\n",
    "\n",
    "***Decision Tree (DT)***\n",
    "- Accuracy = 0.988298 dan F1-Score = 0.988240\n",
    "- Meskipun masih tinggi, DT memiliki akurasi sedikit lebih rendah dibandingkan KNN.\n",
    "- Potensi kelemahan: overfitting jika tree tidak di-prune dengan baik atau jika parameter seperti max_depth tidak diatur.\n",
    "- Dari confusion matrix, kesalahan masih relatif kecil, tapi ada sedikit lebih banyak misclassification dibandingkan KNN.\n",
    "\n",
    "***Random Forest (RF)***\n",
    "- Accuracy = 0.989362 dan F1-Score = 0.989130\n",
    "- Random Forest sedikit lebih baik daripada DT, seperti yang diharapkan, karena merupakan ensemble dari banyak pohon.\n",
    "- Kesalahan klasifikasi juga sangat minim, tetapi masih ada beberapa misclassification.\n",
    "- Kelemahan potensial: waktu pelatihan yang lebih lama daripada DT tunggal, terutama jika jumlah pohon (n_estimators) cukup besar.\n",
    "\n",
    "***Support Vector Machine (SVM)***\n",
    "- Accuracy = 0.991312 dan F1-Score = 0.991212\n",
    "- SVM memberikan performa yang juga sangat baik, meski masih sedikit di bawah KNN.\n",
    "- Dari confusion matrix, kesalahan juga sangat kecil.\n",
    "- Kelemahan potensial: pemilihan kernel yang salah dapat menurunkan performa, serta waktu pelatihan yang bisa meningkat pada dataset berdimensi besar.\n",
    "\n",
    "**2. Rekomendasi Tindakan Lanjutan**\n",
    "\n",
    "***Kumpulkan Data Tambahan***\n",
    "- Jika dataset relatif kecil atau tidak mewakili seluruh domain problem, menambah data bisa membantu meningkatkan generalisasi model.\n",
    "\n",
    "***Tuning Lebih Lanjut***\n",
    "- Meski hasil sudah sangat baik, Kita masih bisa mencoba hyperparameter tuning yang lebih ekstensif (misalnya, RandomizedSearchCV dengan rentang parameter lebih luas, atau Bayesian Optimization).\n",
    "- Untuk KNN, bisa menyesuaikan weights (distance atau uniform) dan algorithm (ball_tree, kd_tree).\n",
    "- Untuk Decision Tree, bisa mengeksplor min_samples_split, min_samples_leaf, dan max_features.\n",
    "- Untuk Random Forest, bisa memperbanyak n_estimators atau menyesuaikan max_features, bootstrap, dsb.\n",
    "- Untuk SVM, bisa melakukan tuning C, gamma, dan jenis kernel (rbf, poly, sigmoid).\n",
    "\n",
    "***Pilih Model yang Paling Sesuai Kebutuhan***\n",
    "- Jika kecepatan prediksi dan kemudahan interpretasi penting, Decision Tree atau Random Forest (dengan feature importance) bisa lebih diutamakan.\n",
    "- Jika membutuhkan akurasi setinggi mungkin dan data tidak terlalu besar, KNN atau SVM bisa menjadi pilihan.\n",
    "- Pertimbangkan juga kompleksitas komputasi dan kebutuhan interpretabilitas."
   ]
  }
 ],
 "metadata": {
  "colab": {
   "provenance": []
  },
  "kernelspec": {
   "display_name": "Python 3 (ipykernel)",
   "language": "python",
   "name": "python3"
  },
  "language_info": {
   "codemirror_mode": {
    "name": "ipython",
    "version": 3
   },
   "file_extension": ".py",
   "mimetype": "text/x-python",
   "name": "python",
   "nbconvert_exporter": "python",
   "pygments_lexer": "ipython3",
   "version": "3.12.0"
  }
 },
 "nbformat": 4,
 "nbformat_minor": 4
}
